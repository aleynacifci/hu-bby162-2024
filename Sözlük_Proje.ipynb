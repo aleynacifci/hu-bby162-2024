{
  "nbformat": 4,
  "nbformat_minor": 0,
  "metadata": {
    "colab": {
      "provenance": [],
      "authorship_tag": "ABX9TyOSHV1bizU1NdBOz6mJlWKe",
      "include_colab_link": true
    },
    "kernelspec": {
      "name": "python3",
      "display_name": "Python 3"
    },
    "language_info": {
      "name": "python"
    }
  },
  "cells": [
    {
      "cell_type": "markdown",
      "metadata": {
        "id": "view-in-github",
        "colab_type": "text"
      },
      "source": [
        "<a href=\"https://colab.research.google.com/github/aleynacifci/hu-bby162-2024/blob/main/S%C3%B6zl%C3%BCk_Proje.ipynb\" target=\"_parent\"><img src=\"https://colab.research.google.com/assets/colab-badge.svg\" alt=\"Open In Colab\"/></a>"
      ]
    },
    {
      "cell_type": "code",
      "execution_count": 9,
      "metadata": {
        "colab": {
          "base_uri": "https://localhost:8080/"
        },
        "id": "fTUeyzX_9kXB",
        "outputId": "583e2627-ba07-4ac6-9d3f-d85b609a4cf6"
      },
      "outputs": [
        {
          "output_type": "stream",
          "name": "stdout",
          "text": [
            "{'Pilli Bebek': \"1993 yılında Ankara'da kurulan Türk rock grubudur. 'Olsun' adlı şarkısı Behzat Ç. dizisinde jenerik müziği olarak kullanmıştır.\", 'Sakin': '2007 yılında Rolling Stone dergisi tarafından Gelecek Vaat Eden 10 Yerli Grup arasında gösterildiler.', 'Çilekeş': 'Katil Dans albümü, Rolling Stone dergisi tarafından 2008 yılının en iyi albümü seçilmiştir.', 'Mor ve Ötesi': 'Grup, 1995 yılında kurulmuş olup Türk rock müzik sahnesinde uzun yıllardır varlığını sürdürmektedir.', 'Vega': 'Türk rock müzik grubudur. Adını mavi ışık yayan Vega yıldızından alır.', 'Hardal': \"Türkiye'de yaptıkları farklı tarzda albümlerle büyük ilgi görmüşlerdir.\", 'Athena': 'Türk ska ve punk rock grubu. Gökhan Özoğuz ve Hakan Özoğuz kardeşler grubun kurucu üyeleridir.', 'Duman': 'Seni Kendime Sakladım albümüyle Altın Kelebek ödülünü kazandılar.', 'Badem': 'Badem ve Konukları albümüyle çoğu sanatçıyı aynı albümde bir araya getirdi. Vega,Feridun Düzağaç,İlhan Şeşen ve Özlem Tekin gibi isimler eşlik etti.', 'Manga': '2010 Eurovision Yarışmasında ikinci oldular.'}\n"
          ]
        }
      ],
      "source": [
        "#Sözlük oluştur\n",
        "turkce_rock_gruplari = {\n",
        "\"Pilli Bebek\": \"1993 yılında Ankara'da kurulan Türk rock grubudur. 'Olsun' adlı şarkısı Behzat Ç. dizisinde jenerik müziği olarak kullanmıştır.\",\n",
        "\"Sakin\": \"2007 yılında Rolling Stone dergisi tarafından Gelecek Vaat Eden 10 Yerli Grup arasında gösterildiler.\",\n",
        "\"Çilekeş\": \"Katil Dans albümü, Rolling Stone dergisi tarafından 2008 yılının en iyi albümü seçilmiştir.\",\n",
        "\"Mor ve Ötesi\": \"Grup, 1995 yılında kurulmuş olup Türk rock müzik sahnesinde uzun yıllardır varlığını sürdürmektedir.\",\n",
        "\"Vega\": \"Türk rock müzik grubudur. Adını mavi ışık yayan Vega yıldızından alır.\",\n",
        "\"Hardal\": \"Türkiye'de yaptıkları farklı tarzda albümlerle büyük ilgi görmüşlerdir.\",\n",
        "\"Athena\": \"Türk ska ve punk rock grubu. Gökhan Özoğuz ve Hakan Özoğuz kardeşler grubun kurucu üyeleridir.\",\n",
        "\"Duman\": \"Seni Kendime Sakladım albümüyle Altın Kelebek ödülünü kazandılar.\",\n",
        "\"Badem\": \"Badem ve Konukları albümüyle çoğu sanatçıyı aynı albümde bir araya getirdi. Vega,Feridun Düzağaç,İlhan Şeşen ve Özlem Tekin gibi isimler eşlik etti.\",\n",
        "\"Manga\": \"2010 Eurovision Yarışmasında ikinci oldular.\"\n",
        "                       }\n",
        "print(turkce_rock_gruplari)\n"
      ]
    },
    {
      "cell_type": "code",
      "source": [
        "#Sözlüğe yeni öğe eklenmesi\n",
        "kelime = input(\"Yeni eklenecek kelimeyi giriniz: \")\n",
        "aciklama = input(\"Yeni kelimenin açıklamasını giriniz: \")\n",
        "turkce_rock_gruplari[kelime] = aciklama\n",
        "print(turkce_rock_gruplari)"
      ],
      "metadata": {
        "colab": {
          "base_uri": "https://localhost:8080/"
        },
        "id": "FZVoeVC69rHH",
        "outputId": "b8a4e87f-d322-4d13-8ea1-2c826a6def98"
      },
      "execution_count": 3,
      "outputs": [
        {
          "output_type": "stream",
          "name": "stdout",
          "text": [
            "Yeni eklenecek kelimeyi giriniz: Adamlar\n",
            "Yeni kelimenin açıklamasını giriniz: 2014 yılında ilk albümleri Eski Dostum Tankla Gelmiş'i yayınladılar.\n",
            "{'Pilli Bebek': \"1993 yılında Ankara'da kurulan Türk rock grubudur. 'Olsun' adlı şarkısı Behzat Ç. dizisinde jenerik müziği olarak kullanmıştır.\", 'Sakin': '2007 yılında Rolling Stone dergisi tarafından Gelecek Vaat Eden 10 Yerli Grup arasında gösterildiler.', 'Çilekes': 'Katil Dans albümü, Rolling Stone dergisi tarafından 2008 yılının en iyi albümü seçilmiştir.', 'Mor ve Ötesi': 'Grup, 1995 yılında kurulmuş olup Türk rock müzik sahnesinde uzun yıllardır varlığını sürdürmektedir.', 'Vega': 'Türk rock müzik grubudur. Adını mavi ışık yayan Vega yıldızından alır.', 'Hardal': \"Türkiye'de yaptıkları farklı tarzda albümlerle büyük ilgi görmüşlerdir.\", 'Athena': 'Türk ska ve punk rock grubu. Gökhan Özoğuz ve Hakan Özoğuz kardeşler grubun kurucu üyeleridir.', 'Duman': 'Seni Kendime Sakladım albümüyle Altın Kelebek ödülünü kazandılar.', 'Badem': 'Badem ve Konukları albümüyle çoğu sanatçıyı aynı albümde bir araya getirdi. Vega,Feridun Düzağaç,İlhan Şeşen ve Özlem Tekin gibi isimler eşlik etti.', 'Manga': '2010 Eurovision Yarışmasında ikinci oldular.', 'Adamlar': \"2014 yılında ilk albümleri Eski Dostum Tankla Gelmiş'i yayınladılar.\"}\n"
          ]
        }
      ]
    },
    {
      "cell_type": "code",
      "source": [
        "#Sözlükteki bir öğenin silinmesi\n",
        "print(turkce_rock_gruplari)\n",
        "silinecek = (input(\"Silmek istediğiniz kelimeyi giriniz: \"))\n",
        "del turkce_rock_gruplari[silinecek]\n",
        "print(\"Silme tamamlandı\")\n",
        "print(turkce_rock_gruplari)"
      ],
      "metadata": {
        "colab": {
          "base_uri": "https://localhost:8080/"
        },
        "id": "K6ZBDstW-zZH",
        "outputId": "0d240fb6-2114-4840-a92a-0ed3fcaa94b8"
      },
      "execution_count": 4,
      "outputs": [
        {
          "output_type": "stream",
          "name": "stdout",
          "text": [
            "{'Pilli Bebek': \"1993 yılında Ankara'da kurulan Türk rock grubudur. 'Olsun' adlı şarkısı Behzat Ç. dizisinde jenerik müziği olarak kullanmıştır.\", 'Sakin': '2007 yılında Rolling Stone dergisi tarafından Gelecek Vaat Eden 10 Yerli Grup arasında gösterildiler.', 'Çilekes': 'Katil Dans albümü, Rolling Stone dergisi tarafından 2008 yılının en iyi albümü seçilmiştir.', 'Mor ve Ötesi': 'Grup, 1995 yılında kurulmuş olup Türk rock müzik sahnesinde uzun yıllardır varlığını sürdürmektedir.', 'Vega': 'Türk rock müzik grubudur. Adını mavi ışık yayan Vega yıldızından alır.', 'Hardal': \"Türkiye'de yaptıkları farklı tarzda albümlerle büyük ilgi görmüşlerdir.\", 'Athena': 'Türk ska ve punk rock grubu. Gökhan Özoğuz ve Hakan Özoğuz kardeşler grubun kurucu üyeleridir.', 'Duman': 'Seni Kendime Sakladım albümüyle Altın Kelebek ödülünü kazandılar.', 'Badem': 'Badem ve Konukları albümüyle çoğu sanatçıyı aynı albümde bir araya getirdi. Vega,Feridun Düzağaç,İlhan Şeşen ve Özlem Tekin gibi isimler eşlik etti.', 'Manga': '2010 Eurovision Yarışmasında ikinci oldular.', 'Adamlar': \"2014 yılında ilk albümleri Eski Dostum Tankla Gelmiş'i yayınladılar.\"}\n",
            "Silmek istediğiniz kelimeyi giriniz: Pilli Bebek\n",
            "Silme tamamlandı\n",
            "{'Sakin': '2007 yılında Rolling Stone dergisi tarafından Gelecek Vaat Eden 10 Yerli Grup arasında gösterildiler.', 'Çilekes': 'Katil Dans albümü, Rolling Stone dergisi tarafından 2008 yılının en iyi albümü seçilmiştir.', 'Mor ve Ötesi': 'Grup, 1995 yılında kurulmuş olup Türk rock müzik sahnesinde uzun yıllardır varlığını sürdürmektedir.', 'Vega': 'Türk rock müzik grubudur. Adını mavi ışık yayan Vega yıldızından alır.', 'Hardal': \"Türkiye'de yaptıkları farklı tarzda albümlerle büyük ilgi görmüşlerdir.\", 'Athena': 'Türk ska ve punk rock grubu. Gökhan Özoğuz ve Hakan Özoğuz kardeşler grubun kurucu üyeleridir.', 'Duman': 'Seni Kendime Sakladım albümüyle Altın Kelebek ödülünü kazandılar.', 'Badem': 'Badem ve Konukları albümüyle çoğu sanatçıyı aynı albümde bir araya getirdi. Vega,Feridun Düzağaç,İlhan Şeşen ve Özlem Tekin gibi isimler eşlik etti.', 'Manga': '2010 Eurovision Yarışmasında ikinci oldular.', 'Adamlar': \"2014 yılında ilk albümleri Eski Dostum Tankla Gelmiş'i yayınladılar.\"}\n"
          ]
        }
      ]
    },
    {
      "cell_type": "code",
      "source": [
        "#Sözlükteki bir öğenin güncellenmesi\n",
        "guncellenecek = (input(\"Güncellemek istediğiniz kelimeyi giriniz: \"))\n",
        "guncelSozluk = input(\"Güncel kelime açıklamasını giriniz: \")\n",
        "turkce_rock_gruplari[guncellenecek] = guncelSozluk\n",
        "print(\"Güncelleme tamamlandı\")\n",
        "print(turkce_rock_gruplari)\n"
      ],
      "metadata": {
        "colab": {
          "base_uri": "https://localhost:8080/"
        },
        "id": "3ErEba1w_yYS",
        "outputId": "31a99ebf-8d45-43c7-a8c6-3e21aef8b3dc"
      },
      "execution_count": 7,
      "outputs": [
        {
          "output_type": "stream",
          "name": "stdout",
          "text": [
            "Güncellemek istediğiniz kelimeyi giriniz: Sakin\n",
            "Güncel kelime açıklamasını giriniz: Denek Hayatım şarkısı 2008 yılında Ankara'da yaşanan tren kazası üzerine yazılmıştır.\n",
            "Güncelleme tamamlandı\n",
            "{'Sakin': \"Denek Hayatım şarkısı 2008 yılında Ankara'da yaşanan tren kazası üzerine yazılmıştır.\", 'Çilekes': 'Katil Dans albümü, Rolling Stone dergisi tarafından 2008 yılının en iyi albümü seçilmiştir.', 'Mor ve Ötesi': 'Grup, 1995 yılında kurulmuş olup Türk rock müzik sahnesinde uzun yıllardır varlığını sürdürmektedir.', 'Vega': 'Türk rock müzik grubudur. Adını mavi ışık yayan Vega yıldızından alır.', 'Hardal': \"Türkiye'de yaptıkları farklı tarzda albümlerle büyük ilgi görmüşlerdir.\", 'Athena': 'Türk ska ve punk rock grubu. Gökhan Özoğuz ve Hakan Özoğuz kardeşler grubun kurucu üyeleridir.', 'Duman': 'Seni Kendime Sakladım albümüyle Altın Kelebek ödülünü kazandılar.', 'Badem': 'Badem ve Konukları albümüyle çoğu sanatçıyı aynı albümde bir araya getirdi. Vega,Feridun Düzağaç,İlhan Şeşen ve Özlem Tekin gibi isimler eşlik etti.', 'Manga': '2010 Eurovision Yarışmasında ikinci oldular.', 'Adamlar': \"2014 yılında ilk albümleri Eski Dostum Tankla Gelmiş'i yayınladılar.\"}\n"
          ]
        }
      ]
    },
    {
      "cell_type": "code",
      "source": [
        "#Sözlükte arama yapılması\n",
        "print(\"Çilekeş\" in turkce_rock_gruplari.keys())\n",
        "print(\"maNga\" in turkce_rock_gruplari.keys())\n",
        "print(\"Hardal\" in turkce_rock_gruplari.keys())"
      ],
      "metadata": {
        "colab": {
          "base_uri": "https://localhost:8080/"
        },
        "id": "7nz-WwXI_7NC",
        "outputId": "df42b3c0-a65e-4d81-d54c-5fa844cc7e57"
      },
      "execution_count": 13,
      "outputs": [
        {
          "output_type": "stream",
          "name": "stdout",
          "text": [
            "True\n",
            "False\n",
            "True\n"
          ]
        }
      ]
    }
  ]
}