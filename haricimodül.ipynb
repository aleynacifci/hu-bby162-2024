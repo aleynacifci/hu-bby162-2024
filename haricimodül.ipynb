{
  "nbformat": 4,
  "nbformat_minor": 0,
  "metadata": {
    "colab": {
      "provenance": [],
      "authorship_tag": "ABX9TyMYm15ot5XWsMiVSlfWFA+4",
      "include_colab_link": true
    },
    "kernelspec": {
      "name": "python3",
      "display_name": "Python 3"
    },
    "language_info": {
      "name": "python"
    }
  },
  "cells": [
    {
      "cell_type": "markdown",
      "metadata": {
        "id": "view-in-github",
        "colab_type": "text"
      },
      "source": [
        "<a href=\"https://colab.research.google.com/github/aleynacifci/hu-bby162-2024/blob/main/haricimod%C3%BCl.ipynb\" target=\"_parent\"><img src=\"https://colab.research.google.com/assets/colab-badge.svg\" alt=\"Open In Colab\"/></a>"
      ]
    },
    {
      "cell_type": "code",
      "execution_count": 1,
      "metadata": {
        "colab": {
          "base_uri": "https://localhost:8080/"
        },
        "id": "b3c4RuWUxlm5",
        "outputId": "96841953-5ded-4038-a184-eb194188a707"
      },
      "outputs": [
        {
          "output_type": "stream",
          "name": "stdout",
          "text": [
            "Kütüphane 01\n"
          ]
        }
      ],
      "source": [
        "#kutuphane01.py\n",
        "class Kut01:\n",
        "  kut01Degisken = \"Kütüphane 01\"\n",
        "\n",
        "#ana uygulama\n",
        "benimKutuphanem = Kut01\n",
        "print(benimKutuphanem.kut01Degisken)"
      ]
    }
  ]
}