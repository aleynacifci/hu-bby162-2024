{
  "nbformat": 4,
  "nbformat_minor": 0,
  "metadata": {
    "colab": {
      "provenance": [],
      "authorship_tag": "ABX9TyPYGBOq1otQcEkdI30gHyY8",
      "include_colab_link": true
    },
    "kernelspec": {
      "name": "python3",
      "display_name": "Python 3"
    },
    "language_info": {
      "name": "python"
    }
  },
  "cells": [
    {
      "cell_type": "markdown",
      "metadata": {
        "id": "view-in-github",
        "colab_type": "text"
      },
      "source": [
        "<a href=\"https://colab.research.google.com/github/aleynacifci/hu-bby162-2024/blob/main/adam_asmaca_projem.ipynb\" target=\"_parent\"><img src=\"https://colab.research.google.com/assets/colab-badge.svg\" alt=\"Open In Colab\"/></a>"
      ]
    },
    {
      "cell_type": "code",
      "source": [
        "import random\n",
        "\n",
        "def kelime_sec():\n",
        "    kelimeler = [\"doktor\", \"polis\", \"avukat\", \"muhasebeci\", \"psikolog\", \"pilot\", \"mühendis\"]\n",
        "    return random.choice(kelimeler)\n",
        "\n",
        "def oyun_baslat():\n",
        "    print(\"Adam Asmaca oyununa hoş geldiniz!\")\n",
        "    seviye = input(\"Lütfen bir seviye seçin: Kolay, Orta veya Zor: \").lower()\n",
        "    if seviye not in [\"kolay\", \"orta\", \"zor\"]:\n",
        "        print(\"Geçersiz seviye seçimi. Otomatik olarak kolay seviye seçildi.\")\n",
        "        seviye = \"kolay\"\n",
        "\n",
        "    canlar = {\"kolay\": 6, \"orta\": 4, \"zor\": 2}\n",
        "    can = canlar[seviye]\n",
        "\n",
        "    kelime = kelime_sec()\n",
        "    tahmin_edilen = \"_\" * len(kelime)\n",
        "    harfler = set()\n",
        "\n",
        "    while can > 0 and \"_\" in tahmin_edilen:\n",
        "        print(\"\\nTahmin edilen kelime:\", \" \".join(tahmin_edilen))\n",
        "        print(\"Kalan can:\", can)\n",
        "        harf = input(\"Bir harf tahmin edin: \").lower()\n",
        "\n",
        "        if harf in harfler:\n",
        "            print(\"Bu harfi zaten tahmin ettiniz. Lütfen başka bir harf deneyin.\")\n",
        "            continue\n",
        "\n",
        "        harfler.add(harf)\n",
        "\n",
        "        if harf in kelime:\n",
        "            print(\"Doğru tahmin! :)\")\n",
        "            tahmin_edilen = \"\".join(harf if kelime[i] == harf else tahmin_edilen[i] for i in range(len(kelime)))\n",
        "        else:\n",
        "            print(\"Yanlış tahmin! :(\")\n",
        "            can -= 1\n",
        "\n",
        "    if \"_\" not in tahmin_edilen:\n",
        "        print(\"\\nTebrikler! Kelimeyi buldunuz:\", kelime)\n",
        "    else:\n",
        "        print(\"\\nMaalesef, kelimeyi bulamadınız. Doğru kelime:\", kelime)\n",
        "\n",
        "    tekrar_oyna = input(\"Tekrar oynamak ister misiniz? (Evet/Hayır): \").lower()\n",
        "    if tekrar_oyna == \"evet\":\n",
        "        oyun_baslat()\n",
        "    else:\n",
        "        print(\"Oyunu bitirdiniz. Görüşmek üzere!\")\n",
        "\n",
        "oyun_baslat()\n"
      ],
      "metadata": {
        "colab": {
          "base_uri": "https://localhost:8080/"
        },
        "id": "4Tb20rb0IkrB",
        "outputId": "5c0690a2-df8c-47b1-aaf2-44800f6e4928"
      },
      "execution_count": null,
      "outputs": [
        {
          "output_type": "stream",
          "name": "stdout",
          "text": [
            "Adam Asmaca oyununa hoş geldiniz!\n"
          ]
        }
      ]
    }
  ]
}