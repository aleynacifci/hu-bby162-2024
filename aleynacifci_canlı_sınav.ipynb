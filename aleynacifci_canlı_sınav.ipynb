{
  "nbformat": 4,
  "nbformat_minor": 0,
  "metadata": {
    "colab": {
      "provenance": [],
      "include_colab_link": true
    },
    "kernelspec": {
      "name": "python3",
      "display_name": "Python 3"
    },
    "language_info": {
      "name": "python"
    }
  },
  "cells": [
    {
      "cell_type": "markdown",
      "metadata": {
        "id": "view-in-github",
        "colab_type": "text"
      },
      "source": [
        "<a href=\"https://colab.research.google.com/github/aleynacifci/hu-bby162-2024/blob/main/aleynacifci_canl%C4%B1_s%C4%B1nav.ipynb\" target=\"_parent\"><img src=\"https://colab.research.google.com/assets/colab-badge.svg\" alt=\"Open In Colab\"/></a>"
      ]
    },
    {
      "cell_type": "markdown",
      "source": [
        "**Canlı Sınav 01'e hoşgeldiniz!**"
      ],
      "metadata": {
        "id": "ItmuxWgBbkC1"
      }
    },
    {
      "cell_type": "markdown",
      "source": [
        "Canlı sınav, bilgisayar laboratuvarında bilgisayar başında yapılan ve teslim edilen projeyi ifade etmektedir. Canlı sınavda yazmış olduğunuz kodlar sizin sorumluluğunuzdadır ve gerekirse hangi kodu neden yazdığınızı açık bir şekilde anlatabilmeniz gerekmektedir. Canlı sınav sırasında İnternet üzerindeki kaynaklar kullanılabilir ancak başka bir kişiden destek alınamaz.\n",
        "\n",
        "Canlı sınavın teslim şekli önceki proje çalışmasında olduğu gibidir. \"Canlı Sınav 01\" adlı Colab not defterinin bir kopyasını çıkarmalı, size ait olan bu kopya üzerinde soruları cevaplamalı, GitHub'daki ders deponuza size ait kopyayı yüklemeli ve not defterinin adresini metin alanına yazarak göndermelisiniz.\n",
        "\n",
        "Canlı sınavın doğru şekilde tamamlanması da sınavın önemli bir parçasıdır. Sınav için gönderdiğiniz adresi kontrol ediniz ve doğru dosyayı depoya yerleştirdiği bizden emin olunuz. Teslim sürecinde yapılan hatalar sınavdan 0 puan almanıza yol açabilir!\n",
        "\n",
        "Önemli Not: Soruları cecaplarken sadece şu ana kadar öğrendiğiniz kod yapılarını kullanmanız gerekmektedir!!!"
      ],
      "metadata": {
        "id": "KGjdjR5RbTgH"
      }
    },
    {
      "cell_type": "markdown",
      "source": [],
      "metadata": {
        "id": "nYB7K5V_NSF9"
      }
    },
    {
      "cell_type": "markdown",
      "source": [],
      "metadata": {
        "id": "a1jy3KN6NSh9"
      }
    },
    {
      "cell_type": "markdown",
      "source": [],
      "metadata": {
        "id": "k-SaJnqmNS6P"
      }
    },
    {
      "cell_type": "markdown",
      "source": [
        "**----- Sorular -----**"
      ],
      "metadata": {
        "id": "zBvdh4s8cOqM"
      }
    },
    {
      "cell_type": "markdown",
      "source": [
        "**Soru 1:** Bir giriş sisteminde kullanıcı adı olarak eposta ya da telefon numarası kullanılabilmektedir. Şifre ise tektir. Klavyeden doğru kullanıcı adı ve şifre girildiğinde ekrana \" Sisteme giriş yaptınız\" , yanlış kullanıcı adı girildiğinde \"kullanıcı adı hatalı\" , yanlış şifre girildiğinde \"şifre hatalı\" bilgisi yazdırılmalıdır. Kullanıcı adı hatalı ise şifre sorma adımına geçilmemelidir."
      ],
      "metadata": {
        "id": "ma0FVqgQiLBe"
      }
    },
    {
      "cell_type": "code",
      "source": [
        "#Soru 1 bu bölümde kodlanmalıdır\n",
        "eposta = \"a@a.net\"\n",
        "tel = \"532\"\n",
        "sifre = \"123\"\n",
        "kullanici_adi = input(\"Kullanıcı adınızı girin (eposta veya telefon numarası): \")\n",
        "sifre_gir = input(\"Şifrenizi girin: \")\n",
        "\n",
        "if kullanici_adi == eposta or kullanici_adi == tel:\n",
        "    if sifre_gir == sifre:\n",
        "        print(\"Sisteme giriş yaptınız.\")\n",
        "    else:\n",
        "        print(\"Şifre hatalı.\")\n",
        "else:\n",
        "    print(\"Kullanıcı adı hatalı.\")\n",
        "\n",
        "\n",
        "\n",
        "\n",
        "\n",
        "\n",
        "\n"
      ],
      "metadata": {
        "id": "Fj7wkLMcjp_7",
        "colab": {
          "base_uri": "https://localhost:8080/"
        },
        "outputId": "c134f391-86e2-4149-ebf1-43ef2319c21c"
      },
      "execution_count": 46,
      "outputs": [
        {
          "output_type": "stream",
          "name": "stdout",
          "text": [
            "Kullanıcı adınızı girin (eposta veya telefon numarası): 532\n",
            "Şifrenizi girin: 124\n",
            "Şifre hatalı.\n"
          ]
        }
      ]
    },
    {
      "cell_type": "markdown",
      "source": [
        "**Soru 2:** Klavyeden girilen bir insan ismindeki harf sayısına göre ekrana bir cümle yazdırınız. Örneğin 4 harfli bir isim girildiğinde ekrana \"Dört dörtlük bir isim\", 6 harfli bir isim girildiğinde ekrana \"Altıncı hissin kuvvetli\" yazılabilmelidir. Klavyeden üçten az ya da yediden çok harfe sahip bir isim girildiğinde ise ekrana \"isminiz sisteme uygun değildir\" mesajı yazdırılmalıdır."
      ],
      "metadata": {
        "id": "uZDiXJARgK4o"
      }
    },
    {
      "cell_type": "code",
      "source": [
        "\n",
        "    # İsim girişi al\n",
        "    isim = input(\"Lütfen bir isim girin: \")\n",
        "\n",
        "    # İsimdeki harf sayısını kontrol et\n",
        "    harf_sayisi = len(isim)\n",
        "\n",
        "    # İsimdeki harf sayısına göre uygun cümleyi yazdır\n",
        "    if harf_sayisi == 3:\n",
        "        print(\"Üçüncü harften anlaşılır.\")\n",
        "    elif harf_sayisi == 4:\n",
        "        print(\"Dört dörtlük bir isim.\")\n",
        "    elif harf_sayisi == 5:\n",
        "        print(\"Beş taş.\")\n",
        "    elif harf_sayisi == 6:\n",
        "        print(\"Altıncı hissin kuvvetli.\")\n",
        "    elif harf_sayisi == 7:\n",
        "        print(\"Yedinci hissin güçlü.\")\n",
        "    else:\n",
        "        print(\"İsminiz sisteme uygun değildir.\")\n",
        "\n",
        "\n",
        "\n"
      ],
      "metadata": {
        "id": "no7Zd1ZCh5U3",
        "colab": {
          "base_uri": "https://localhost:8080/"
        },
        "outputId": "ca85a29d-1ee8-4ef8-c346-0a380ff11ee3"
      },
      "execution_count": 47,
      "outputs": [
        {
          "output_type": "stream",
          "name": "stdout",
          "text": [
            "Lütfen bir isim girin: Fenerbahçe\n",
            "İsminiz sisteme uygun değildir.\n"
          ]
        }
      ]
    },
    {
      "cell_type": "markdown",
      "source": [],
      "metadata": {
        "id": "CLEe1nJGNYf0"
      }
    },
    {
      "cell_type": "markdown",
      "source": [
        "**Soru 3:** 5 öğenin yer aldığı bir kelime tahmin oyunu oluşturun. Kelimeler bir liste içinde yer almalıdır. Klavyeden girilen kelime liste içinde yer alan kelimelerden biri ise ekrana \"bravo oyunu kazandınız\", aksi halde ise ekrana \"üzgünüm oyunu kaybettiniz\" mesajı gelmelidir."
      ],
      "metadata": {
        "id": "HnIqbjcCeNEV"
      }
    },
    {
      "cell_type": "code",
      "source": [
        "#Soru 3 bu bölümde kodlanmalıdır\n",
        " # Kelime listesi\n",
        "kelime = [\"biber\", \"brokoli\", \"bamya\", \"bezelye\", \"elma\"]\n",
        "tahmin = input(\"Lütfen bir kelime girin: \")\n",
        "\n",
        "    # Tahminin doğruluğunu kontrol et\n",
        "if tahmin in kelime:\n",
        "      print(\"Bravo! Oyunu kazandınız.\")\n",
        "else:\n",
        "      print(\"Üzgünüm, oyunu kaybettiniz.\")\n",
        "\n",
        "\n"
      ],
      "metadata": {
        "id": "SjzG5g3ffTyv",
        "colab": {
          "base_uri": "https://localhost:8080/"
        },
        "outputId": "55934e72-7d11-4d5f-e441-7f07d888aa93"
      },
      "execution_count": 20,
      "outputs": [
        {
          "output_type": "stream",
          "name": "stdout",
          "text": [
            "Lütfen bir kelime girin: mandalina\n",
            "Üzgünüm, oyunu kaybettiniz.\n"
          ]
        }
      ]
    },
    {
      "cell_type": "markdown",
      "source": [
        "**Soru 4:** 5 öğenin yer aldığı bir sözlük oluşturun. Bu sözlükte 5 kelime ve bu 5 kelimenin anlamları yer almalıdır. Klavyeden girilen anahtar (key) eğer sözlükte varsa kelimenin anlamı ekrana yazdırılmalıdır. Eğer anahtar sözlükte yoksa sözlükte aranan kelimenin olmadığı bilgisi ekrana yazdırılmalıdır."
      ],
      "metadata": {
        "id": "p49cZFjJcXoS"
      }
    },
    {
      "cell_type": "code",
      "execution_count": 5,
      "metadata": {
        "id": "3whYCDz3a8QZ",
        "colab": {
          "base_uri": "https://localhost:8080/"
        },
        "outputId": "aaad208e-a9c4-4637-c7bf-01f16e99b9fa"
      },
      "outputs": [
        {
          "output_type": "stream",
          "name": "stdout",
          "text": [
            "{'Duman': 'Yalnızlık Paylaşılmaz', 'Manga': 'Bir Kadın Çizeceksin', 'Can Bonomo': 'Güneş', 'Sertab Erener': 'Olsun', 'Adamlar': 'Yanmış İçinden'}\n",
            "aramak istediğiniz terimi giriniz: Manga\n",
            "Bir Kadın Çizeceksin\n"
          ]
        }
      ],
      "source": [
        "#Soru 4 bu bölümde kodlanmalıdır\n",
        "sozluk = {\"Duman\": \"Yalnızlık Paylaşılmaz\", \"Manga\" : \"Bir Kadın Çizeceksin\", \"Can Bonomo\": \"Güneş\" , \"Sertab Erener\": \"Olsun\", \"Adamlar\":\"Yanmış İçinden\"}\n",
        "print(sozluk)\n",
        "arananKelime = input(\"aramak istediğiniz terimi giriniz: \")\n",
        "print(sozluk[arananKelime])\n"
      ]
    }
  ]
}