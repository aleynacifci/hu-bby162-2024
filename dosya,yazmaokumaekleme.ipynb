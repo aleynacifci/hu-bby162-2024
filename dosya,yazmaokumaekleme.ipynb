{
  "nbformat": 4,
  "nbformat_minor": 0,
  "metadata": {
    "colab": {
      "provenance": [],
      "mount_file_id": "1kDx6_EwugrPI017_3W6lu4cAGTz_LKLU",
      "authorship_tag": "ABX9TyPuIwqKxqfySB2r7m8h6ctf",
      "include_colab_link": true
    },
    "kernelspec": {
      "name": "python3",
      "display_name": "Python 3"
    },
    "language_info": {
      "name": "python"
    }
  },
  "cells": [
    {
      "cell_type": "markdown",
      "metadata": {
        "id": "view-in-github",
        "colab_type": "text"
      },
      "source": [
        "<a href=\"https://colab.research.google.com/github/aleynacifci/hu-bby162-2024/blob/main/dosya%2Cyazmaokumaekleme.ipynb\" target=\"_parent\"><img src=\"https://colab.research.google.com/assets/colab-badge.svg\" alt=\"Open In Colab\"/></a>"
      ]
    },
    {
      "cell_type": "code",
      "execution_count": 19,
      "metadata": {
        "id": "SQ_VYa97kq1G"
      },
      "outputs": [],
      "source": [
        "dosya = \"/content/drive/MyDrive/perşembe.txt\"\n",
        "\n"
      ]
    },
    {
      "cell_type": "code",
      "source": [
        "sistem = open(dosya, \"w\")\n",
        "sistem.close()"
      ],
      "metadata": {
        "id": "toGDwpgmnADj"
      },
      "execution_count": 20,
      "outputs": []
    },
    {
      "cell_type": "code",
      "source": [
        "adSoyad = input(\"Adınızı soyadınızı giriniz: \")\n",
        "ogrenciNo = input(\"Numaranızı adresinizi giriniz: \")\n",
        "\n",
        "dosyaYaz = open(dosya, \"a\")\n",
        "dosyaYaz.write(adSoyad+\" - \"+ogrenciNo +\"\\n\")\n",
        "dosyaYaz.close()"
      ],
      "metadata": {
        "colab": {
          "base_uri": "https://localhost:8080/"
        },
        "id": "zyJJpCNMnI9K",
        "outputId": "67277929-3e5f-4757-88f1-495286abd1b5"
      },
      "execution_count": 17,
      "outputs": [
        {
          "name": "stdout",
          "output_type": "stream",
          "text": [
            "Adınızı soyadınızı giriniz: Aleyna Çifci\n",
            "Numaranızı adresinizi giriniz: 2210396034\n"
          ]
        }
      ]
    },
    {
      "cell_type": "code",
      "source": [
        "dosya = \"/content/drive/MyDrive/perşembe.txt\"\n",
        "\n",
        "f = open(dosya, \"r\")\n",
        "\n",
        "for line in f.readlines():\n",
        "    print(line)\n",
        "\n",
        "f.close()"
      ],
      "metadata": {
        "colab": {
          "base_uri": "https://localhost:8080/"
        },
        "id": "YvQ3pBhpoIBF",
        "outputId": "728806a6-dd47-40d4-b272-2158c0448639"
      },
      "execution_count": 18,
      "outputs": [
        {
          "output_type": "stream",
          "name": "stdout",
          "text": [
            "Zeynep Taşkın - 22222222\n",
            "\n",
            "  - \n",
            "\n",
            "Aleyna Çifci - 2210396034\n",
            "\n"
          ]
        }
      ]
    }
  ]
}