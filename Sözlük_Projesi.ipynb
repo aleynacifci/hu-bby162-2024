{
  "nbformat": 4,
  "nbformat_minor": 0,
  "metadata": {
    "colab": {
      "provenance": [],
      "authorship_tag": "ABX9TyNYy5wqiwf/aBxdtuK21MKh",
      "include_colab_link": true
    },
    "kernelspec": {
      "name": "python3",
      "display_name": "Python 3"
    },
    "language_info": {
      "name": "python"
    }
  },
  "cells": [
    {
      "cell_type": "markdown",
      "metadata": {
        "id": "view-in-github",
        "colab_type": "text"
      },
      "source": [
        "<a href=\"https://colab.research.google.com/github/aleynacifci/hu-bby162-2024/blob/main/S%C3%B6zl%C3%BCk_Projesi.ipynb\" target=\"_parent\"><img src=\"https://colab.research.google.com/assets/colab-badge.svg\" alt=\"Open In Colab\"/></a>"
      ]
    },
    {
      "cell_type": "code",
      "execution_count": 17,
      "metadata": {
        "colab": {
          "base_uri": "https://localhost:8080/"
        },
        "id": "1ebwkaGdnWzZ",
        "outputId": "d1e91032-51cd-419c-892d-89c28dc9e537"
      },
      "outputs": [
        {
          "output_type": "stream",
          "name": "stdout",
          "text": [
            "{'Pilli Bebek': \"1993 yılında Ankara'da kurulan Türk rock grubudur. 'Olsun' adlı şarkısı Behzat Ç. dizisinde jenerik müziği olarak kullanmıştır.\", 'Sakin': '2007 yılında Rolling Stone dergisi tarafından Gelecek Vaat Eden 10 Yerli Grup arasında gösterildiler.', 'Çilekes': 'Katil Dans albümü, Rolling Stone dergisi tarafından 2008 yılının en iyi albümü seçilmiştir.', 'Mor ve Ötesi': 'Grup, 1995 yılında kurulmuş olup Türk rock müzik sahnesinde uzun yıllardır varlığını sürdürmektedir.', 'Vega': 'Türk rock müzik grubudur. Adını mavi ışık yayan Vega yıldızından alır.', 'Hardal': \"Türkiye'de yaptıkları farklı tarzda albümlerle büyük ilgi görmüşlerdir.\", 'Athena': 'Türk ska ve punk rock grubu. Gökhan Özoğuz ve Hakan Özoğuz kardeşler grubun kurucu üyeleridir.', 'Duman': 'Seni Kendime Sakladım albümüyle Altın Kelebek ödülünü kazandılar.', 'Badem': 'Badem ve Konukları albümüyle çoğu sanatçıyı aynı albümde bir araya getirdi. Vega,Feridun Düzağaç,İlhan Şeşen ve Özlem Tekin gibi isimler eşlik etti.', 'Manga': '2010 Eurovision Yarışmasında ikinci oldular.'}\n"
          ]
        }
      ],
      "source": [
        "turkce_rock_gruplari = {\n",
        "\"Pilli Bebek\": \"1993 yılında Ankara'da kurulan Türk rock grubudur. 'Olsun' adlı şarkısı Behzat Ç. dizisinde jenerik müziği olarak kullanmıştır.\",\n",
        "\"Sakin\": \"2007 yılında Rolling Stone dergisi tarafından Gelecek Vaat Eden 10 Yerli Grup arasında gösterildiler.\",\n",
        "\"Çilekes\": \"Katil Dans albümü, Rolling Stone dergisi tarafından 2008 yılının en iyi albümü seçilmiştir.\",\n",
        "\"Mor ve Ötesi\": \"Grup, 1995 yılında kurulmuş olup Türk rock müzik sahnesinde uzun yıllardır varlığını sürdürmektedir.\",\n",
        "\"Vega\": \"Türk rock müzik grubudur. Adını mavi ışık yayan Vega yıldızından alır.\",\n",
        "\"Hardal\": \"Türkiye'de yaptıkları farklı tarzda albümlerle büyük ilgi görmüşlerdir.\",\n",
        "\"Athena\": \"Türk ska ve punk rock grubu. Gökhan Özoğuz ve Hakan Özoğuz kardeşler grubun kurucu üyeleridir.\",\n",
        "\"Duman\": \"Seni Kendime Sakladım albümüyle Altın Kelebek ödülünü kazandılar.\",\n",
        "\"Badem\": \"Badem ve Konukları albümüyle çoğu sanatçıyı aynı albümde bir araya getirdi. Vega,Feridun Düzağaç,İlhan Şeşen ve Özlem Tekin gibi isimler eşlik etti.\",\n",
        "\"Manga\": \"2010 Eurovision Yarışmasında ikinci oldular.\"\n",
        "                       }\n",
        "print(turkce_rock_gruplari)\n"
      ]
    },
    {
      "cell_type": "code",
      "source": [
        "#Sözlüğe yeni öğe eklenmesi\n",
        "kelime = input(\"Yeni eklenecek kelimeyi giriniz: \")\n",
        "aciklama = input(\"Yeni kelimenin açıklamasını giriniz: \")\n",
        "turkce_rock_gruplari[kelime] = aciklama\n",
        "print(turkce_rock_gruplari)"
      ],
      "metadata": {
        "colab": {
          "base_uri": "https://localhost:8080/"
        },
        "id": "44OniAZKV5KD",
        "outputId": "55796af3-7e08-448d-89c3-6d81c19d1234"
      },
      "execution_count": 13,
      "outputs": [
        {
          "output_type": "stream",
          "name": "stdout",
          "text": [
            "Yeni eklenecek kelimeyi giriniz: Redd\n",
            "Yeni kelimenin açıklamasını giriniz: Nefes Bile Almadan şarkısının klibi çok beğenilmiştir.\n",
            "{'Pilli Bebek': \"1993 yılında Ankara'da kurulan Türk rock grubudur. 'Olsun' adlı şarkısı Behzat Ç. dizisinde jenerik müziği olarak kullanmıştır.\", 'Sakin': '2007 yılında Rolling Stone dergisi tarafından Gelecek Vaat Eden 10 Yerli Grup arasında gösterildiler.', 'Çilekes': 'Katil Dans albümü, Rolling Stone dergisi tarafından 2008 yılının en iyi albümü seçilmiştir.', 'Mor ve Ötesi': 'Grup, 1995 yılında kurulmuş olup Türk rock müzik sahnesinde uzun yıllardır varlığını sürdürmektedir.', 'Vega': 'Türk rock müzik grubudur. Adını mavi ışık yayan Vega yıldızından alır.', 'Hardal': \"Türkiye'de yaptıkları farklı tarzda albümlerle büyük ilgi görmüşlerdir.\", 'Athena': 'Türk ska ve punk rock grubu. Gökhan Özoğuz ve Hakan Özoğuz kardeşler grubun kurucu üyeleridir.', 'Duman': 'Seni Kendime Sakladım albümüyle Altın Kelebek ödülünü kazandılar.', 'Badem': 'Badem ve Konukları albümüyle çoğu sanatçıyı aynı albümde bir araya getirdi. Vega,Feridun Düzağaç,İlhan Şeşen ve Özlem Tekin gibi isimler eşlik etti.', 'Manga': '2010 Eurovision Yarışmasında ikinci oldular.', 'Redd': 'Nefes Bile Almadan şarkısının klibi çok beğenilmiştir.'}\n"
          ]
        }
      ]
    },
    {
      "cell_type": "code",
      "source": [
        "#Sözlükteki bir öğenin silinmesi\n",
        "print(turkce_rock_gruplari)\n",
        "silinecek = (input(\"Silmek istediğiniz kelimeyi giriniz: \"))\n",
        "del turkce_rock_gruplari[silinecek]\n",
        "print(\"Silme tamamlandı\")\n",
        "print(turkce_rock_gruplari)"
      ],
      "metadata": {
        "colab": {
          "base_uri": "https://localhost:8080/"
        },
        "id": "LsQv9-KUXaPh",
        "outputId": "2c954bf1-1a5b-40c0-c93f-b2dd872f6a1d"
      },
      "execution_count": null,
      "outputs": [
        {
          "output_type": "stream",
          "name": "stdout",
          "text": [
            "{'Sakin': '2007 yılında Rolling Stone dergisi tarafından Gelecek Vaat Eden 10 Yerli Grup arasında gösterildiler.', 'Çilekes': 'Katil Dans albümü, Rolling Stone dergisi tarafından 2008 yılının en iyi albümü seçilmiştir.', 'Mor ve Ötesi': 'Grup, 1995 yılında kurulmuş olup Türk rock müzik sahnesinde uzun yıllardır varlığını sürdürmektedir.', 'Vega': 'Türk rock müzik grubudur. Adını mavi ışık yayan Vega yıldızından alır.', 'Hardal': \"Türkiye'de yaptıkları farklı tarzda albümlerle büyük ilgi görmüşlerdir.\", 'Athena': 'Türk ska ve punk rock grubu. Gökhan Özoğuz ve Hakan Özoğuz kardeşler grubun kurucu üyeleridir.', 'Duman': 'Seni Kendime Sakladım albümüyle Altın Kelebek ödülünü kazandılar.', 'Badem': 'Badem ve Konukları albümüyle çoğu sanatçıyı aynı albümde bir araya getirdi. Vega,Feridun Düzağaç,İlhan Şeşen ve Özlem Tekin gibi isimler eşlik etti.', 'Manga': '2010 Eurovision Yarışmasında ikinci oldular.'}\n"
          ]
        }
      ]
    }
  ]
}