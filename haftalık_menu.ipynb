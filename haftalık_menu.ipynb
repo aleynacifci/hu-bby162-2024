{
  "nbformat": 4,
  "nbformat_minor": 0,
  "metadata": {
    "colab": {
      "provenance": [],
      "authorship_tag": "ABX9TyMt0sDxemFBJFeit+ynJl87",
      "include_colab_link": true
    },
    "kernelspec": {
      "name": "python3",
      "display_name": "Python 3"
    },
    "language_info": {
      "name": "python"
    }
  },
  "cells": [
    {
      "cell_type": "markdown",
      "metadata": {
        "id": "view-in-github",
        "colab_type": "text"
      },
      "source": [
        "<a href=\"https://colab.research.google.com/github/aleynacifci/hu-bby162-2024/blob/main/haftal%C4%B1k_menu.ipynb\" target=\"_parent\"><img src=\"https://colab.research.google.com/assets/colab-badge.svg\" alt=\"Open In Colab\"/></a>"
      ]
    },
    {
      "cell_type": "code",
      "execution_count": 1,
      "metadata": {
        "colab": {
          "base_uri": "https://localhost:8080/"
        },
        "id": "zXzqEVFHWFHc",
        "outputId": "3b72e7de-51c6-486d-bbd7-3490f47ef037"
      },
      "outputs": [
        {
          "output_type": "stream",
          "name": "stdout",
          "text": [
            "Pazartesi günü için menü: kebap\n",
            "Salı günü için menü: kebap\n",
            "Çarşamba günü için menü: makarna\n",
            "Perşembe günü için menü: kebap\n",
            "Cuma günü için menü: kebap\n",
            "Cumartesi günü için menü: köfte\n",
            "Pazar günü için menü: makarna\n"
          ]
        }
      ],
      "source": [
        "\n",
        "import random\n",
        "yemekler = [\"köfte\", \"hamburger\", \"makarna\", \"mantı\", \"balık\", \"kebap\"]\n",
        "gunler = [\"Pazartesi\", \"Salı\", \"Çarşamba\", \"Perşembe\", \"Cuma\", \"Cumartesi\", \"Pazar\"]\n",
        "menu = {}\n",
        "for gun in gunler:\n",
        "  secilen_yemek = random.choice(yemekler)\n",
        "  menu[gun] = secilen_yemek\n",
        "for gun, yemek in menu.items():\n",
        "    print(gun + \" günü için menü: \" + yemek)\n",
        ""
      ]
    },
    {
      "cell_type": "code",
      "source": [],
      "metadata": {
        "id": "YIbNaSjIkt8L"
      },
      "execution_count": null,
      "outputs": []
    }
  ]
}